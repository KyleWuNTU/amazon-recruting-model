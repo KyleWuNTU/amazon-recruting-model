{
 "cells": [
  {
   "cell_type": "code",
   "execution_count": 5,
   "metadata": {},
   "outputs": [
    {
     "name": "stdout",
     "output_type": "stream",
     "text": [
      "Detailed Attrition Analysis:\n",
      " Year  Total_Tech_Employees  Employees_16 to 19 years  Attrition_16 to 19 years  Retention_Cost_16 to 19 years  Employees_20 to 24 years  Attrition_20 to 24 years  Retention_Cost_20 to 24 years  Employees_25 to 34 years  Attrition_25 to 34 years  Retention_Cost_25 to 34 years  Employees_35 to 44 years  Attrition_35 to 44 years  Retention_Cost_35 to 44 years  Employees_45 to 54 years  Attrition_45 to 54 years  Retention_Cost_45 to 54 years  Employees_55 years and over  Attrition_55 years and over  Retention_Cost_55 years and over  Total_Attrition  Overall_Attrition_Rate  Total_Retention_Cost  Average_Retention_Cost_Per_Employee\n",
      " 2023          5.032000e+05                   10064.0                    3522.0                    191216000.0                   75480.0                   21134.0                   2868240000.0                  226440.0                   45288.0                   1.177488e+10                  125800.0                   15096.0                   8.554400e+09                   50320.0                    4026.0                   4.478480e+09                      15096.0                        755.0                      1554888000.0          89821.0                  0.1785          2.942210e+10                              58470.0\n",
      " 2024          5.505688e+05                   11011.0                    3854.0                    209216144.0                   82585.0                   23124.0                   3138242160.0                  247756.0                   49551.0                   1.288331e+10                  137642.0                   16517.0                   9.359670e+09                   55057.0                    4405.0                   4.900062e+09                      16517.0                        826.0                      1701257592.0          98277.0                  0.1785          3.219176e+10                              58470.0\n",
      " 2025          6.027502e+05                   12055.0                    4219.0                    229045095.0                   90413.0                   25316.0                   3435676425.0                  271238.0                   54248.0                   1.410436e+10                  150688.0                   18083.0                   1.024675e+10                   60275.0                    4822.0                   5.364477e+09                      18083.0                        904.0                      1862498272.0         107592.0                  0.1785          3.524281e+10                              58470.0\n",
      " 2026          6.603239e+05                   13206.0                    4622.0                    250923092.0                   99049.0                   27734.0                   3763846380.0                  297146.0                   59429.0                   1.545158e+10                  165081.0                   19810.0                   1.122551e+10                   66032.0                    5283.0                   5.876883e+09                      19810.0                        990.0                      2040400933.0         117868.0                  0.1785          3.860914e+10                              58470.0\n",
      " 2027          7.239479e+05                   14479.0                    5068.0                    275100216.0                  108592.0                   30406.0                   4126503244.0                  325777.0                   65155.0                   1.694038e+10                  180987.0                   21718.0                   1.230711e+10                   72395.0                    5792.0                   6.443137e+09                      21718.0                       1086.0                      2236999127.0         129225.0                  0.1785          4.232924e+10                              58470.0\n",
      " 2028          7.943702e+05                   15887.0                    5561.0                    301860682.0                  119156.0                   33364.0                   4527910235.0                  357467.0                   71493.0                   1.858826e+10                  198593.0                   23831.0                   1.350429e+10                   79437.0                    6355.0                   7.069895e+09                      23831.0                       1192.0                      2454603969.0         141796.0                  0.1785          4.644683e+10                              58470.0\n",
      " 2029          8.681074e+05                   17362.0                    6077.0                    329880811.0                  130216.0                   36461.0                   4948212160.0                  390648.0                   78130.0                   2.031371e+10                  217027.0                   26043.0                   1.475783e+10                   86811.0                    6945.0                   7.726156e+09                      26043.0                       1302.0                      2682451855.0         154958.0                  0.1785          5.075824e+10                              58470.0\n",
      " 2030          9.500282e+05                   19001.0                    6650.0                    361010713.0                  142504.0                   39901.0                   5415160699.0                  427513.0                   85503.0                   2.223066e+10                  237507.0                   28501.0                   1.615048e+10                   95003.0                    7600.0                   8.455251e+09                      28501.0                       1425.0                      2935587116.0         169580.0                  0.1785          5.554815e+10                              58470.0\n",
      " 2031          1.041198e+06                   20824.0                    7288.0                    395655361.0                  156180.0                   43730.0                   5934830412.0                  468539.0                   93708.0                   2.436404e+10                  260300.0                   31236.0                   1.770037e+10                  104120.0                    8330.0                   9.266665e+09                      31236.0                       1562.0                      3217302802.0         185854.0                  0.1785          6.087887e+10                              58470.0\n",
      " 2032          1.142835e+06                   22857.0                    8000.0                    434277172.0                  171425.0                   47999.0                   6514157578.0                  514276.0                  102855.0                   2.674233e+10                  285709.0                   34285.0                   1.942819e+10                  114283.0                    9143.0                   1.017123e+10                      34285.0                       1714.0                      3531359108.0         203996.0                  0.1785          6.682154e+10                              58470.0\n",
      " 2033          1.256328e+06                   25127.0                    8794.0                    477404476.0                  188449.0                   52766.0                   7161067143.0                  565347.0                  113069.0                   2.939807e+10                  314082.0                   37690.0                   2.135757e+10                  125633.0                   10051.0                   1.118132e+10                      37690.0                       1884.0                      3882052188.0         224254.0                  0.1785          7.345747e+10                              58470.0\n",
      "\n",
      "Retention Investment Analysis:\n",
      "        Age_Group  Annual_Productivity Attrition_Rate  Retention_Cost  Potential_Loss    ROI Worth_Retention\n",
      "   16 to 19 years             150000.0          35.0%         19000.0         87062.5 358.2%            True\n",
      "   20 to 24 years             280000.0          28.0%         38000.0        130900.0 244.5%            True\n",
      "   25 to 34 years             420000.0          20.0%         52000.0        139000.0 167.3%            True\n",
      "   35 to 44 years             580000.0          12.0%         68000.0        114600.0  68.5%            True\n",
      "   45 to 54 years             750000.0           8.0%         89000.0         98900.0  11.1%           False\n",
      "55 years and over             850000.0           5.0%        103000.0         70187.5 -31.9%           False\n",
      "\n",
      "Retainable Employees Analysis:\n",
      " Year  Retainable_16 to 19 years  Retainable_20 to 24 years  Retainable_25 to 34 years  Retainable_35 to 44 years  Total_Retainable\n",
      " 2023                     1761.0                    10567.0                    22644.0                     7548.0           42520.0\n",
      " 2024                     1927.0                    11562.0                    24776.0                     8258.0           46523.0\n",
      " 2025                     2110.0                    12658.0                    27124.0                     9042.0           50934.0\n",
      " 2026                     2311.0                    13867.0                    29714.0                     9905.0           55797.0\n",
      " 2027                     2534.0                    15203.0                    32578.0                    10859.0           61174.0\n",
      " 2028                     2780.0                    16682.0                    35746.0                    11916.0           67124.0\n",
      " 2029                     3038.0                    18230.0                    39065.0                    13022.0           73355.0\n",
      " 2030                     3325.0                    19950.0                    42752.0                    14250.0           80277.0\n",
      " 2031                     3644.0                    21865.0                    46854.0                    15618.0           87981.0\n",
      " 2032                     4000.0                    24000.0                    51428.0                    17142.0           96570.0\n",
      " 2033                     4397.0                    26383.0                    56534.0                    18845.0          106159.0\n"
     ]
    }
   ],
   "source": [
    "# Import required libraries\n",
    "import sys\n",
    "import pandas as pd\n",
    "sys.path.append('..')  # Add parent directory to Python path\n",
    "\n",
    "from calculator.retention_calculator import (\n",
    "    calculate_detailed_attrition,\n",
    "    analyze_retention_worth,\n",
    "    calculate_retainable_employees\n",
    ")\n",
    "\n",
    "# Calculate detailed attrition analysis\n",
    "attrition_df = calculate_detailed_attrition('median')\n",
    "print(\"Detailed Attrition Analysis:\")\n",
    "print(attrition_df.to_string(index=False))"
   ]
  },
  {
   "cell_type": "code",
   "execution_count": 3,
   "metadata": {},
   "outputs": [
    {
     "name": "stdout",
     "output_type": "stream",
     "text": [
      "\n",
      "Retention Investment Analysis:\n",
      "        Age_Group  Annual_Productivity Attrition_Rate  Retention_Cost  Potential_Loss    ROI Worth_Retention\n",
      "   16 to 19 years             150000.0          35.0%         19000.0         87062.5 358.2%            True\n",
      "   20 to 24 years             280000.0          28.0%         38000.0        130900.0 244.5%            True\n",
      "   25 to 34 years             420000.0          20.0%         52000.0        139000.0 167.3%            True\n",
      "   35 to 44 years             580000.0          12.0%         68000.0        114600.0  68.5%            True\n",
      "   45 to 54 years             750000.0           8.0%         89000.0         98900.0  11.1%           False\n",
      "55 years and over             850000.0           5.0%        103000.0         70187.5 -31.9%           False\n"
     ]
    }
   ],
   "source": [
    "# Analyze retention investment worth\n",
    "retention_analysis = analyze_retention_worth()\n",
    "print(\"\\nRetention Investment Analysis:\")\n",
    "print(retention_analysis.to_string(index=False))"
   ]
  },
  {
   "cell_type": "code",
   "execution_count": 4,
   "metadata": {},
   "outputs": [
    {
     "name": "stdout",
     "output_type": "stream",
     "text": [
      "\n",
      "Retainable Employees Analysis:\n",
      " Year  Retainable_16 to 19 years  Retainable_20 to 24 years  Retainable_25 to 34 years  Retainable_35 to 44 years  Total_Retainable\n",
      " 2023                     1761.0                    10567.0                    22644.0                     7548.0           42520.0\n",
      " 2024                     1927.0                    11562.0                    24776.0                     8258.0           46523.0\n",
      " 2025                     2110.0                    12658.0                    27124.0                     9042.0           50934.0\n",
      " 2026                     2311.0                    13867.0                    29714.0                     9905.0           55797.0\n",
      " 2027                     2534.0                    15203.0                    32578.0                    10859.0           61174.0\n",
      " 2028                     2780.0                    16682.0                    35746.0                    11916.0           67124.0\n",
      " 2029                     3038.0                    18230.0                    39065.0                    13022.0           73355.0\n",
      " 2030                     3325.0                    19950.0                    42752.0                    14250.0           80277.0\n",
      " 2031                     3644.0                    21865.0                    46854.0                    15618.0           87981.0\n",
      " 2032                     4000.0                    24000.0                    51428.0                    17142.0           96570.0\n",
      " 2033                     4397.0                    26383.0                    56534.0                    18845.0          106159.0\n"
     ]
    }
   ],
   "source": [
    "# Calculate retainable employees\n",
    "retainable_df = calculate_retainable_employees('median')\n",
    "print(\"\\nRetainable Employees Analysis:\")\n",
    "print(retainable_df.to_string(index=False))"
   ]
  }
 ],
 "metadata": {
  "kernelspec": {
   "display_name": "Python 3",
   "language": "python",
   "name": "python3"
  },
  "language_info": {
   "codemirror_mode": {
    "name": "ipython",
    "version": 3
   },
   "file_extension": ".py",
   "mimetype": "text/x-python",
   "name": "python",
   "nbconvert_exporter": "python",
   "pygments_lexer": "ipython3",
   "version": "3.13.0"
  }
 },
 "nbformat": 4,
 "nbformat_minor": 2
}
